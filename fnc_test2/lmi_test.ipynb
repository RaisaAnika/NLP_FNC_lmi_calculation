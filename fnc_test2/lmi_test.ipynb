{
 "cells": [
  {
   "cell_type": "code",
   "execution_count": 1,
   "metadata": {},
   "outputs": [],
   "source": [
    "from os import listdir\n",
    "import math\n",
    "import os\n",
    "from os.path import isfile, join\n",
    "import jsonlines\n",
    "from tqdm import tqdm\n",
    "import nltk\n",
    "from nltk.tokenize import word_tokenize\n",
    "from nltk.util import ngrams\n",
    "import unicodedata\n",
    "import numpy as np\n",
    "import random\n",
    "import csv\n",
    "import pickle\n",
    "import pandas as pd\n",
    "from collections import defaultdict, Counter\n",
    "from scipy.stats import pearsonr, spearmanr\n",
    "\n",
    "from nltk.tokenize import RegexpTokenizer\n",
    "BASE_DIR = os.path.dirname(\"\")"
   ]
  },
  {
   "cell_type": "code",
   "execution_count": 5,
   "metadata": {},
   "outputs": [],
   "source": [
    "test_file = join(BASE_DIR, 'fnc.test.jsonl')"
   ]
  },
  {
   "cell_type": "code",
   "execution_count": 16,
   "metadata": {},
   "outputs": [],
   "source": [
    "TOP_N = 20\n",
    "MIN_FREQ = 5\n",
    "NGRAM = 2"
   ]
  },
  {
   "cell_type": "code",
   "execution_count": 17,
   "metadata": {},
   "outputs": [],
   "source": [
    "def get_counters(dataset, ngram=NGRAM):\n",
    "\n",
    "    stop_words = get_single_stopwords(test_file, ngram=1)\n",
    "    print (stop_words)"
   ]
  },
  {
   "cell_type": "code",
   "execution_count": 19,
   "metadata": {},
   "outputs": [],
   "source": [
    "#Tokenize Words\n",
    "def get_single_stopwords(dataset, ngram=1):\n",
    "\n",
    "    tokenizer = RegexpTokenizer(r'\\w+')\n",
    "    fp = open(dataset, \"r\", encoding='utf-8')\n",
    "    reader = jsonlines.Reader(fp)\n",
    "\n",
    "    global_word_counter = defaultdict(int)\n",
    "    phrases = 0\n",
    "\n",
    "    for dictionary in tqdm(reader.iter()):\n",
    "        claim = dictionary['claim']\n",
    "\n",
    "        words = tokenizer.tokenize(claim.lower())\n",
    "       \n",
    "        for i  in range(len(words) + 1):\n",
    "            if i > ngram - 1:\n",
    "                phrase = ' '.join(words[i - ngram:i])\n",
    "                global_word_counter[phrase] += 1\n",
    "\n",
    "    counter = Counter(global_word_counter)\n",
    "    stop_words = counter.most_common(10)\n",
    "    print (sum(counter.values()))\n",
    "    stop_words = [word[0] for word in stop_words]\n",
    "    print (stop_words)\n",
    "    \n",
    "    return stop_words#Process Words in files tokenize them and check if they exist in the stop words\n",
    "def get_counters(dataset, ngram=NGRAM):\n",
    "\n",
    "    stop_words = get_single_stopwords(train_file, ngram=1)\n",
    "\n",
    "    tokenizer = RegexpTokenizer(r'\\w+')\n",
    "    fp = open(dataset, \"r\", encoding='utf-8')\n",
    "    reader = jsonlines.Reader(fp)\n",
    "\n",
    "    global_word_counter = defaultdict(int)\n",
    "    global_label_counter = defaultdict(int)\n",
    "    phrases = 0\n",
    "\n",
    "    label_word_counter = defaultdict(lambda: defaultdict(int)) \n",
    "\n",
    "    for dictionary in tqdm(reader.iter()):\n",
    "        label = dictionary['gold_label']\n",
    "        claim = dictionary['claim']\n",
    "\n",
    "        #words = word_tokenize(claim.lower())\n",
    "        words = tokenizer.tokenize(claim.lower())\n",
    "        words = [words[i] for i in range(len(words)) if words[i] not in stop_words]\n",
    "\n",
    "        bigrams = ngrams(words, NGRAM)\n",
    "        \n",
    "        \"\"\" \n",
    "        for word in words:\n",
    "            global_word_counter[word] += 1\n",
    "            global_label_counter[label] += 1\n",
    "            label_word_counter[label][word] += 1\n",
    "            phrases += 1\n",
    "        \n",
    "        \"\"\"\n",
    "\n",
    "        for bigram in bigrams:\n",
    "            bigram = ' '.join(bigram)\n",
    "                \n",
    "            global_word_counter[bigram] += 1\n",
    "            global_label_counter[label] += 1\n",
    "            label_word_counter[label][bigram] += 1\n",
    "            phrases += 1\n",
    "        \n",
    "        \n",
    "        \"\"\"\n",
    "        for i  in range(len(words) + 1):\n",
    "            if i > ngram - 1:\n",
    "                phrase = ' '.join(words[i - ngram:i])\n",
    "                global_word_counter[phrase] += 1\n",
    "                global_label_counter[label] += 1\n",
    "                label_word_counter[label][phrase] += 1\n",
    "                phrases += 1\n",
    "        \"\"\"\n",
    "\n",
    "    \n",
    "    print ('Total count: ' + str(phrases))\n",
    "    return global_word_counter, label_word_counter, global_label_counter, phrases"
   ]
  },
  {
   "cell_type": "code",
   "execution_count": 25,
   "metadata": {},
   "outputs": [
    {
     "name": "stderr",
     "output_type": "stream",
     "text": [
      "25413it [00:00, 34448.07it/s]\n",
      "2493it [00:00, 24924.02it/s]"
     ]
    },
    {
     "name": "stdout",
     "output_type": "stream",
     "text": [
      "294988\n",
      "['to', 's', 'a', 'in', 'of', 'the', 'isis', 'is', 'woman', 'for']\n"
     ]
    },
    {
     "name": "stderr",
     "output_type": "stream",
     "text": [
      "25413it [00:01, 23805.67it/s]"
     ]
    },
    {
     "name": "stdout",
     "output_type": "stream",
     "text": [
      "Total count: 227506\n"
     ]
    },
    {
     "name": "stderr",
     "output_type": "stream",
     "text": [
      "\n"
     ]
    }
   ],
   "source": [
    "valid_global_word_counter, valid_label_word_counter, valid_global_label_counter, valid_words = get_counters(test_file)\n"
   ]
  },
  {
   "cell_type": "code",
   "execution_count": 32,
   "metadata": {},
   "outputs": [],
   "source": [
    "corr = {'agree': [], 'disagree': [], 'discuss': []}\n",
    "\n"
   ]
  },
  {
   "cell_type": "code",
   "execution_count": 42,
   "metadata": {},
   "outputs": [
    {
     "name": "stdout",
     "output_type": "stream",
     "text": [
      "227506\n",
      "227506\n",
      "227506\n",
      "227506\n"
     ]
    }
   ],
   "source": [
    "#Calculate PMI PL value \n",
    "for label in valid_label_word_counter.keys():\n",
    "    words = []\n",
    "    scores = []\n",
    "    pmis = []\n",
    "    valid_pmis = []\n",
    "    valid_scores = []\n",
    "    freqs = []\n",
    "    valid_freqs = []\n",
    "#     p_l_train = train_global_label_counter[label] / train_words\n",
    "    p_l_valid = valid_global_label_counter[label] / valid_words\n",
    "    print (valid_words)"
   ]
  },
  {
   "cell_type": "code",
   "execution_count": 43,
   "metadata": {},
   "outputs": [],
   "source": [
    " word_counter = valid_label_word_counter[label]"
   ]
  },
  {
   "cell_type": "code",
   "execution_count": 44,
   "metadata": {},
   "outputs": [
    {
     "name": "stdout",
     "output_type": "stream",
     "text": [
      "defaultdict(<class 'int'>, {'disgusting joan': 6, 'joan rivers': 31, 'rivers doc': 6, 'doc gwen': 6, 'gwen korovin': 8, 'korovin sick': 6, 'sick selfie': 6, 'selfie exposed': 6, 'exposed last': 6, 'last photo': 6, 'photo comic': 6, 'comic icon': 6, 'icon when': 6, 'when she': 6, 'she was': 17, 'was under': 9, 'under anesthesia': 9, 'anesthesia at': 6, 'at center': 6, 'center medical': 6, 'medical investigation': 6, 'urgent beheads': 4, 'beheads kurdish': 4, 'kurdish female': 4, 'female fighter': 4, 'fighter rehana': 4, 'justin bieber': 35, 'bieber helps': 2, 'helps defend': 2, 'defend russian': 2, 'russian fisherman': 8, 'fisherman from': 5, 'from bear': 14, 'people actually': 7, 'actually believed': 7, 'believed argentina': 7, 'argentina president': 97, 'president adopted': 15, 'adopted jewish': 15, 'jewish boy': 28, 'boy stop': 13, 'stop his': 7, 'his change': 7, 'change into': 7, 'into werewolf': 56, 'three boobed': 15, 'boobed they': 14, 'they re': 22, 're not': 14, 'not fake': 14, 'saudi arabia': 17, 'arabia national': 5, 'national airline': 8, 'airline introduce': 1, 'introduce gender': 5, 'gender segregation': 9, 'segregation after': 1, 'after string': 1, 'string complaints': 1, 'complaints from': 1, 'from male': 1, 'male passengers': 1, 'this campaign': 8, 'campaign shows': 8, 'shows pretty': 8, 'pretty genius': 8, 'genius way': 8, 'way stop': 8, 'stop men': 8, 'men catcalling': 11, 'catcalling street': 8, 'meet 3': 17, '3 boobed': 30, 'adopting potential': 7, 'potential werewolves': 7, 'werewolves routine': 7, 'routine business': 7, 'business argentine': 7, 'argentine presidents': 7, 'president adopts': 29, 'adopts jewish': 32, 'jewish godson': 25, 'godson counteract': 6, 'counteract werewolf': 6, 'werewolf legend': 9, 'sorry argentina': 14, 'president didn': 27, 'didn t': 31, 't actually': 14, 'actually adopt': 14, 'adopt jewish': 38, 'jewish werewolf': 14, 'explosive new': 2, 'new details': 2, 'details joan': 2, 'rivers medical': 2, 'medical crisis': 2, 'crisis doctor': 2, 'doctor snapped': 8, 'snapped selfie': 8, 'selfie with': 8, 'with legendary': 2, 'legendary comic': 2, 'comic performed': 2, 'performed unauthorized': 2, 'unauthorized biopsy': 2, 'biopsy while': 2, 'while she': 4, 'crabzilla spotted': 5, 'spotted off': 5, 'off coast': 11, 'coast britain': 5, 'boy save': 7, 'save him': 7, 'him from': 23, 'from life': 7, 'life as': 7, 'as werewolf': 7, 'bear attack': 22, 'attack foiled': 7, 'foiled by': 7, 'by justin': 7, 'bieber music': 7, 'music story': 7, 'story too': 7, 'too good': 7, 'good check': 7, 'three boobs': 7, 'boobs are': 7, 'are most': 7, 'most likely': 7, 'likely two': 7, 'two boobs': 7, 'boobs and': 7, 'and lie': 7, 'no saudi': 3, 'arabia has': 3, 'has not': 3, 'not banned': 3, 'banned tempting': 3, 'tempting eyes': 6, 'nhl expansion': 3, 'expansion plan': 1, 'plan report': 1, 'report complete': 1, 'complete fabrication': 1, 'fabrication bettman': 1, 'james foley': 10, 'foley mother': 3, 'mother appalled': 3, 'appalled by': 3, 'by u': 3, 'u government': 3, 'government handling': 3, 'handling case': 3, 'rivers doctor': 19, 'doctor took': 9, 'took selfie': 9, 'with unconscious': 6, 'unconscious comedian': 6, 'comedian performed': 6, 'performed biopsy': 6, 'biopsy without': 6, 'without consent': 6, 'consent details': 6, 'tv show': 8, 'show tricks': 3, 'tricks chronic': 3, 'chronic catcallers': 3, 'catcallers into': 3, 'into harassing': 3, 'harassing their': 6, 'their own': 6, 'own mothers': 6, 'no argentina': 11, 'president did': 11, 'did not': 12, 'not adopt': 11, 'jewish child': 24, 'child stop': 11, 'stop him': 25, 'him turning': 22, 'turning into': 35, 't adopt': 13, 'child avoid': 13, 'avoid becoming': 13, 'becoming werewolf': 13, 'werewolf so': 13, 'so what': 13, 'what did': 13, 'did she': 13, 'she do': 13, 'boobed fake': 7, 'argentine president': 17, 'president takes': 17, 'takes on': 17, 'on godson': 17, 'godson but': 17, 'but not': 17, 'not keep': 17, 'keep werewolf': 17, 'werewolf at': 17, 'at bay': 17, 'saudi airlines': 9, 'airlines segregate': 2, 'segregate sexes': 2, 'us ally': 1, 'ally saudi': 1, 'arabia starts': 1, 'starts gender': 1, 'segregation on': 8, 'on national': 3, 'doc calls': 2, 'calls macabre': 2, 'macabre selfie': 2, 'selfie claims': 2, 'claims completely': 2, 'completely crazy': 2, 'president cristina': 8, 'cristina kirchner': 8, 'kirchner adopts': 8, 'godson prevent': 8, 'prevent him': 8, 'florida has': 18, 'has surgery': 32, 'surgery add': 42, 'add third': 42, 'third breast': 109, 'breast make': 20, 'make herself': 20, 'herself unatttractive': 3, 'unatttractive men': 3, 'third boob': 29, 'boob likely': 7, 'likely hoax': 7, 'pays 20': 17, '20 000': 17, '000 third': 17, 'herself less': 17, 'less attractive': 17, 'attractive men': 17, 'white house': 3, 'house chief': 1, 'chief staff': 1, 'staff denis': 1, 'denis mcdonough': 1, 'mcdonough no': 1, 'no threats': 1, 'threats were': 1, 'were made': 1, 'made foley': 1, 'foley sotloff': 1, 'sotloff families': 1, 'families over': 1, 'over possible': 1, 'possible ransom': 1, 'one mile': 1, 'mile from': 2, 'from baghdad': 2, 'korovin joan': 2, 'doctor denies': 7, 'denies taking': 4, 'taking selfie': 2, 'jasmine tridevil': 22, 'tridevil with': 13, 'with three': 18, 'three breast': 3, 'breast denies': 3, 'denies surgery': 3, 'surgery hoax': 3, 'hoax claims': 3, 'raven symone': 11, 'symone files': 7, 'files molestation': 7, 'molestation charges': 7, 'charges against': 7, 'against bill': 7, 'bill cosby': 11, 'airlines sexist': 1, 'sexist airline': 1, 'airline intends': 1, 'intends enforce': 1, 'enforce rules': 1, 'rules separate': 1, 'separate male': 1, 'male and': 1, 'and female': 1, 'female passengers': 1, 'there are': 1, 'are still': 1, 'still two': 1, 'two mcdonald': 2, 'mcdonald that': 1, 'that serve': 1, 'serve mcpizza': 1, 'mcpizza from': 1, 'from 90s': 1, 'mystery 50ft': 3, '50ft giant': 3, 'giant crab': 9, 'crab caught': 3, 'caught on': 3, 'on camera': 3, 'camera yards': 3, 'yards from': 3, 'from british': 3, 'british harbour': 3, 'israeli right': 2, 'right welcomes': 2, 'welcomes sisi': 2, 'sisi offer': 2, 'offer palestinian': 2, 'palestinian state': 3, 'state sinai': 4, 'three breasted': 5, 'breasted outed': 5, 'outed as': 5, 'as fake': 11, 'fake by': 5, 'by tampa': 5, 'tampa police': 5, 'this most': 4, 'most passive': 4, 'passive aggressive': 4, 'aggressive office': 4, 'office battle': 4, 'battle we': 4, 'we ve': 4, 've ever': 4, 'ever seen': 4, 'expansion ahead': 1, 'ahead no': 1, 'no says': 1, 'says gary': 1, 'gary bettman': 1, 'tridevil has': 9, 'breast total': 9, 'total recall': 9, 'recall style': 9, 'adopts young': 10, 'young boy': 7, 'boy so': 7, 'so he': 14, 'he won': 14, 'won t': 14, 't turn': 14, 'turn into': 14, 'bieber scares': 2, 'scares off': 2, 'off grizzly': 2, 'grizzly bear': 2, 'bear and': 2, 'and saves': 2, 'saves fisherman': 2, 'from mauling': 2, 'three breasts': 15, 'godson stop': 8, 'from turning': 13, 'arabia outlaws': 1, 'outlaws tempting': 1, 'no mcpizza': 2, 'mcpizza not': 2, 'not available': 2, 'available two': 2, 'two us': 2, 'us mcdonald': 2, 'mcdonald google': 2, 'google translate': 6, 'beast eater': 1, 'eater frightened': 1, 'frightened phone': 1, 'phone signal': 1, 'signal threw': 1, 'threw victim': 1, 'victim and': 1, 'and rend': 1, 'rend taiga': 1, 'we just': 7, 'just found': 7, 'found out': 7, 'out ferguson': 7, 'ferguson protester': 7, 'protester who': 7, 'who claim': 7, 'claim she': 7, 'was shot': 7, 'shot eye': 7, 'eye with': 7, 'with rubber': 7, 'rubber bullet': 7, 'bullet was': 7, 'was false': 7, 'false story': 7, 'story guys': 7, 'guys smh': 7, 're fake': 5, 'fake who': 10, 'who claims': 5, 'claims have': 5, 'have surgically': 5, 'surgically implanted': 19, 'implanted third': 5, 'breast self': 5, 'self proclaimed': 5, 'proclaimed hoaxer': 5, 'hoaxer who': 5, 'who once': 5, 'once reported': 5, 'reported 3': 5, '3 breast': 5, 'breast prosthesis': 5, 'prosthesis stolen': 5, 'stolen from': 5, 'from her': 5, 'her luggage': 5, 'arabia airline': 4, 'airline segregation': 4, 'segregation saudi': 2, 'airlines assign': 2, 'assign seats': 2, 'seats based': 2, 'based on': 2, 'on gender': 2, 'this third': 2, 'boob probably': 2, 'probably only': 2, 'only real': 2, 'real our': 2, 'our hearts': 2, 'selfie before': 6, 'before biopsy': 6, 'biopsy surgery': 6, 'breast her': 15, 'her chest': 15, 'u officials': 3, 'officials threatened': 3, 'threatened james': 4, 'foley parents': 3, 'parents with': 3, 'with prosecution': 4, 'prosecution over': 3, 'over ransom': 3, 'peruvian tv': 2, 'show tricking': 2, 'tricking men': 2, 'men into': 2, 'into catcalling': 3, 'catcalling their': 6, 'their mothers': 3, 'mothers feminism': 2, 'loggers accidentally': 2, 'accidentally cut': 3, 'cut down': 3, 'down world': 3, 'world oldest': 3, 'oldest tree': 3, 'tree amazon': 2, 'amazon forest': 2, 'adopts boy': 1, 'boy end': 1, 'end werewolf': 1, 'werewolf curse': 1, 'no gender': 3, 'on saudia': 3, 'florida gets': 28, 'gets plastic': 9, 'plastic surgery': 9, 'denies selfie': 2, 'legend leads': 3, 'leads jewish': 3, 'godson adoption': 3, 'adoption by': 3, 'by argentina': 3, 'airlines separate': 2, 'separate men': 2, 'men and': 4, 'and women': 4, 'women on': 3, 'on flights': 4, 'president just': 7, 'just adopted': 7, 'adopted son': 7, 'son so': 7, 'bieber basically': 2, 'basically saves': 2, 'saves russian': 6, 'russian man': 3, 'man from': 6, 'hands up': 3, 'up don': 3, 'don t': 5, 't shoot': 4, 'shoot comes': 1, 'comes hong': 1, 'hong kong': 5, 'kong pro': 1, 'pro democracy': 1, 'democracy movement': 1, 'report who': 5, 'who claimed': 11, 'claimed have': 11, 'have third': 5, 'breast added': 5, 'added fake': 5, 'gets third': 28, 'breast surgically': 14, 'bieber saved': 3, 'saved this': 2, 'this guy': 2, 'guy from': 2, 'eyes ban': 1, 'ban saudi': 1, 'saudi women': 1, 'women with': 1, 'with pretty': 1, 'pretty eyes': 1, 'eyes made': 1, 'made cover': 1, 'cover them': 1, 'them up': 1, 'breast become': 5, 'become unattractive': 5, 'unattractive 32': 5, 'i will': 1, 'will have': 1, 'have justice': 1, 'justice what': 1, 'what they': 1, 'they did': 1, 'did me': 1, 'me pregnant': 1, 'pregnant st': 1, 'st louis': 1, 'louis loses': 1, 'loses eye': 2, 'eye after': 3, 'after police': 2, 'police fire': 1, 'fire non': 1, 'non lethal': 1, 'lethal round': 1, 'round at': 1, 'at car': 1, 'car during': 1, 'during ferguson': 1, 'ferguson protest': 1, 'protest video': 1, 'man saved': 3, 'saved from': 6, 'attack thanks': 2, 'thanks his': 2, 'his justin': 5, 'bieber ringtone': 15, 'have surgery': 6, 'breast exposed': 6, 'exposed as': 6, 'as hoaxer': 6, 'boob appear': 5, 'appear unattractive': 5, 'unattractive men': 9, 'saudi stocks': 1, 'stocks currency': 1, 'currency tumble': 1, 'tumble as': 1, 'as aramco': 1, 'aramco pipeline': 1, 'pipeline explodes': 1, 'explodes sabotage': 1, 'sabotage concerns': 1, 'missing nuke': 1, 'nuke colorado': 1, 'colorado sparks': 1, 'sparks intense': 1, 'intense russian': 1, 'russian fears': 1, 'story 3': 6, 'boobed lady': 6, 'lady as': 6, 'fake as': 6, 'as her': 6, 'her third': 6, 'they got': 3, 'got our': 3, 'our way': 3, 'way james': 3, 'foley brother': 3, 'brother backs': 3, 'backs mother': 3, 'mother attacking': 3, 'attacking obama': 3, 'obama administration': 3, 'administration over': 3, 'over failure': 3, 'failure save': 3, 'save photojournalist': 3, 'photojournalist before': 3, 'before he': 4, 'he was': 5, 'was beheaded': 3, 'beheaded by': 3, 'young jewish': 3, 'boy as': 3, 'as godson': 3, 'kei nishikori': 1, 'nishikori highest': 1, 'highest paid': 1, 'paid tennis': 1, 'tennis player': 1, 'player world': 1, 'boob implanted': 4, 'implanted wants': 4, 'wants be': 4, 'be unattractive': 4, 'president argentina': 6, 'argentina adopts': 6, 'triple breasted': 5, 'breasted pictured': 5, 'pictured before': 5, 'before operation': 5, 'operation and': 5, 'and vows': 5, 'vows surgery': 5, 'surgery footage': 5, 'footage will': 5, 'will prove': 5, 'prove third': 5, 'boob no': 5, 'no hoax': 5, '50ft crustacean': 6, 'crustacean dubbed': 6, 'dubbed crabzilla': 6, 'crabzilla photographed': 6, 'photographed lurking': 6, 'lurking beneath': 6, 'beneath waters': 6, 'waters whitstable': 6, 'apple shut': 1, 'shut down': 4, 'down beats': 4, 'beats music': 6, 'music not': 1, 'not so': 1, 'so apple': 1, 'apple says': 1, 'adds third': 5, 'breast by': 5, 'by undergoing': 5, 'undergoing surgery': 5, 'surgery participate': 5, 'participate reality': 5, 'reality show': 5, 'pregnant has': 1, 'has lost': 1, 'lost her': 1, 'her eye': 1, 'after being': 1, 'being shot': 1, 'shot w': 1, 'w bean': 1, 'bean bag': 2, 'bag ferguson': 1, 'i had': 6, 'had third': 6, 'breast implant': 6, 'implant so': 6, 'so i': 6, 'i can': 6, 'can turn': 6, 'turn off': 6, 'off men': 6, 'ringtone saved': 2, 'saved russian': 2, 'fisherman during': 2, 'during bear': 2, 'godson first': 3, 'first time': 3, 'time country': 3, 'country history': 3, 'ringtone scares': 3, 'scares bear': 3, 'bear saves': 3, 'saves man': 5, 'man life': 3, 'us denies': 2, 'denies it': 3, 'it threatened': 3, 'threatened foley': 2, 'foley family': 3, 'airlines ban': 2, 'ban gender': 4, 'gender mixing': 4, 'mixing seating': 2, 'egypt president': 1, 'president denies': 1, 'denies offering': 1, 'offering land': 1, 'land palestinians': 5, 'fox affiliate': 4, 'affiliate falls': 4, 'falls college': 4, 'college humor': 4, 'humor office': 4, 'office note': 4, 'note war': 4, 'war prank': 4, 'rivers selfie': 1, 'selfie doctor': 1, 'denies performing': 1, 'performing biopsy': 1, 'biopsy and': 1, 'and taking': 1, 'taking photo': 1, 'photo while': 1, 'while star': 1, 'star was': 1, 'kong protesters': 2, 'protesters go': 1, 'go ferguson': 1, 'ferguson style': 1, 'style hands': 1, 'sílbale your': 4, 'your mother': 4, 'mother mockumentary': 4, 'mockumentary stop': 4, 'stop street': 4, 'street harassment': 4, 'harassment peru': 4, 'peru google': 4, 'crabzilla satellite': 6, 'satellite picture': 6, 'picture reveals': 6, 'reveals giant': 6, 'giant crustacean': 6, 'crustacean lurking': 6, 'lurking off': 6, 'coast whitstable': 6, 'selfie during': 1, 'during procedure': 1, 'news viral': 4, 'viral video': 4, 'video what': 4, 'what happens': 4, 'happens when': 4, 'when you': 4, 'you accidentally': 4, 'accidentally catcall': 4, 'catcall your': 4, 'your mom': 4, 'cosby show': 4, 'show star': 4, 'star raven': 4, 'symone joins': 4, 'joins long': 4, 'long list': 4, 'list women': 4, 'women accusing': 4, 'accusing bill': 4, 'cosby rape': 4, 'five reasons': 1, 'reasons crabzilla': 1, 'crabzilla definitely': 1, 'definitely not': 1, 'not real': 1, 'these men': 6, 'men weren': 3, 'weren t': 3, 't really': 3, 'really tricked': 3, 'tricked into': 4, 'into sexually': 3, 'sexually harassing': 3, 'their moms': 6, 'rivers death': 1, 'death preventable': 1, 'preventable melissa': 1, 'melissa rivers': 1, 'rivers taking': 1, 'taking legal': 1, 'legal action': 1, 'action news': 1, 'news doctor': 1, 'doctor selfie': 1, 'selfie surfaces': 1, 'fisherman saved': 3, 'from deadly': 2, 'deadly bear': 2, 'attack by': 2, 'by his': 2, 'saudi airline': 2, 'airline saudia': 2, 'saudia ban': 2, 'oil market': 2, 'market shrugs': 2, 'shrugs off': 2, 'off saudi': 2, 'saudi pipeline': 2, 'pipeline blast': 2, 'their undercover': 3, 'undercover mothers': 3, 'mothers best': 3, 'best payback': 3, 'payback ever': 3, 'airline plans': 2, 'plans keep': 2, 'keep men': 2, 'women apart': 2, 'kong riot': 1, 'riot cops': 1, 'cops forced': 1, 'forced withdraw': 1, 'withdraw after': 1, 'after democracy': 1, 'democracy protesters': 1, 'protesters copy': 1, 'copy don': 1, 'shoot gesture': 1, 'gesture used': 1, 'used by': 1, 'by us': 1, 'us demonstrators': 1, 'demonstrators after': 1, 'police officer': 1, 'officer shot': 1, 'shot an': 1, 'an unarmed': 1, 'unarmed black': 1, 'black teenager': 1, 'bieber saves': 2, 'here are': 1, 'are 2': 1, '2 places': 1, 'places left': 1, 'left where': 1, 'where you': 1, 'you can': 2, 'can find': 1, 'find that': 1, 'that taste': 1, 'taste 90s': 1, '90s mcdonald': 1, 'mcdonald pizza': 1, 'arabia set': 2, 'set introduce': 2, 'airline flights': 2, 'when street': 3, 'street harassers': 3, 'harassers realize': 3, 'realize women': 3, 'women they': 3, 're catcalling': 3, 'catcalling are': 3, 'are their': 3, 'moms disguise': 3, 'house denies': 1, 'threatened families': 1, 'families slain': 1, 'slain american': 1, 'american journalists': 1, 'has third': 5, 'breast implanted': 5, 'ferguson riots': 1, 'riots pregnant': 1, 'pregnant loses': 1, 'after cops': 1, 'cops fire': 1, 'fire bean': 1, 'bag round': 1, 'round through': 1, 'through car': 1, 'car window': 1, 'segregation new': 2, 'new islamic': 2, 'islamic law': 2, 'law takes': 2, 'takes flight': 2, 'flight on': 2, 'on airliner': 2, 'airliner seating': 2, 'seating by': 2, 'by gender': 2, 'gender coming': 2, 'coming soon': 2, 'sisi denies': 6, 'denies claims': 6, 'claims over': 2, 'over providing': 2, 'providing palestinians': 2, 'palestinians with': 2, 'with sinai': 2, 'sinai lands': 2, 'can still': 1, 'still order': 1, 'order mcpizza': 1, 'mcpizza at': 1, 'at these': 1, 'these two': 1, 'mcdonald locations': 1, 'stop sharing': 2, 'sharing those': 2, 'those photos': 2, 'photos fancy': 2, 'fancy international': 2, 'international school': 2, 'school lunches': 2, 'nhl denies': 1, 'denies las': 1, 'las vegas': 1, 'vegas expansion': 1, 'expansion report': 1, 'apple beats': 2, 'music brand': 1, 'brand may': 1, 'may go': 1, 'go away': 1, 'away apple': 1, 'music service': 1, 'service sticking': 1, 'sticking around': 1, 'boy keep': 2, 'keep him': 2, 'men caught': 3, 'caught cat': 3, 'cat calling': 3, 'calling and': 3, 'and wolf': 3, 'wolf whistling': 3, 'whistling their': 3, 'mothers hilarious': 3, 'hilarious tv': 3, 'show disguises': 3, 'disguises women': 3, 'women so': 3, 'so they': 3, 'they can': 3, 'can experience': 3, 'experience their': 3, 'their sons': 3, 'sons behaviour': 3, 'breasts was': 5, 'was fake': 5, 'who has': 5, 'has tricked': 5, 'tricked people': 5, 'people online': 5, 'online before': 5, 'ringtone saves': 3, 'argentinian president': 3, 'boy protect': 3, 'protect him': 3, 'from werewolf': 3, 'werewolf stigma': 3, 'no michael': 1, 'michael jackson': 2, 'jackson isn': 1, 'isn t': 1, 't bruno': 1, 'bruno mars': 2, 'mars dad': 1, 'surgery get': 5, 'get third': 5, 'breast three': 5, 'three most': 5, 'most statistically': 5, 'statistically unlikely': 5, 'unlikely pairs': 5, 'pairs boobs': 5, 'airline planning': 2, 'planning introduce': 2, 'yemen houthi': 1, 'houthi rebels': 1, 'rebels seize': 1, 'seize u': 1, 'u marines': 1, 'marines weapons': 1, 'weapons at': 1, 'at airport': 1, 'apple going': 3, 'going shut': 3, 'saudi arabian': 2, 'arabian airline': 2, 'airline separate': 2, 'separate genders': 2, 'genders after': 2, 'after men': 2, 'men complain': 2, 'complain about': 2, 'about blokes': 2, 'blokes sitting': 2, 'sitting next': 2, 'next their': 2, 'their wives': 2, 'man being': 1, 'being mauled': 1, 'mauled by': 2, 'by bear': 4, 'breaking playboy': 2, 'playboy tycoon': 2, 'tycoon hugh': 2, 'hugh hefner': 2, 'hefner passes': 2, 'passes away': 2, 'away at': 2, 'at age': 2, 'age 88': 2, 'house threatened': 1, 'family with': 1, 'ibm cut': 1, 'cut more': 1, 'more than': 1, 'than 111': 1, '111 000': 1, '000 jobs': 1, 'jobs largest': 1, 'largest corporate': 1, 'corporate lay': 1, 'lay off': 1, 'off ever': 1, 'ringtone just': 2, 'just saved': 2, 'saved man': 2, 'life who': 2, 'who was': 2, 'was being': 2, 'being attacked': 2, 'attacked by': 2, 'boobed girl': 1, 'girl probably': 1, 'probably hoax': 1, 'hoax because': 1, 'because obviously': 1, 'selfie while': 2, 'was out': 2, 'out cold': 2, 'cold before': 2, 'before doing': 2, 'doing an': 2, 'an unauthorised': 2, 'unauthorised biopsy': 2, 'rivers personal': 2, 'personal doctor': 2, 'taking operating': 2, 'operating room': 2, 'room selfie': 2, 'bieber baby': 1, 'baby saves': 1, 'from violent': 1, 'violent bear': 1, 'el sisi': 4, 'claims he': 4, 'he ll': 4, 'll give': 4, 'give sinai': 4, 'sinai land': 4, 'bettman says': 1, 'says nhl': 1, 'expansion not': 1, 'not imminent': 1, 'this man': 1, 'man kept': 1, 'kept harassing': 1, 'harassing women': 1, 'on streets': 1, 'streets until': 1, 'until one': 1, 'one day': 1, 'day mom': 1, 'israeli politicians': 2, 'politicians praise': 2, 'praise sisi': 2, 'sisi plan': 2, 'plan give': 2, 'give palestinians': 2, 'palestinians land': 2, 'land state': 2, 'ibm about': 1, 'about get': 1, 'get hit': 1, 'hit with': 1, 'with massive': 1, 'massive reorg': 1, 'reorg and': 1, 'and layoffs': 1, 'ringtone startles': 1, 'startles bear': 1, 'militants just': 1, 'just 1': 1, '1 mile': 2, 'baghdad as': 1, 'as fierce': 1, 'fierce fighting': 1, 'fighting reported': 1, 'reported near': 1, 'near iraqi': 1, 'iraqi capital': 2, 'egypt offers': 1, 'offers abbas': 1, 'abbas land': 1, 'land sinai': 1, 'sinai future': 1, 'future palestinian': 1, 'state read': 1, 'protesters mimic': 1, 'mimic ferguson': 1, 'ferguson hands': 1, 'arabia religious': 1, 'religious police': 1, 'police outlaw': 1, 'outlaw tempting': 1, 'attack when': 2, 'when his': 1, 'bieber ringtones': 1, 'ringtones goes': 1, 'goes off': 1, 'off sending': 1, 'sending bear': 1, 'bear fleeing': 1, 'catcalling never': 1, 'never funny': 1, 'funny unless': 1, 'unless it': 1, 'it these': 1, 'these bros': 1, 'bros tricked': 1, 'finally proof': 1, 'proof that': 1, 'that justin': 1, 'bieber unbearable': 1, 'unbearable russian': 1, 'when ringtone': 1, 'ringtone featuring': 1, 'featuring one': 1, 'one pop': 1, 'pop brat': 1, 'brat songs': 1, 'songs scares': 1, 'scares it': 1, 'it away': 1, 'ferguson and': 1, 'and hong': 1, 'kong have': 1, 'have one': 1, 'one important': 1, 'important thing': 1, 'thing common': 1, 'president sisi': 1, 'sisi gift': 1, 'ghost ship': 1, 'ship filled': 1, 'filled with': 1, 'with ebola': 1, 'ebola ridden': 1, 'ridden rats': 1, 'rats heading': 1, 'heading florida': 1, 'dna results': 1, 'results confirm': 1, 'confirm michael': 1, 'jackson biological': 1, 'biological father': 1, 'father bruno': 1, 'rob o': 1, 'o neill': 1, 'neill may': 1, 'may have': 1, 'have killed': 1, 'killed bin': 1, 'bin laden': 1, 'laden but': 1, 'but didn': 1, 't take': 1, 'take out': 1, 'out gangster': 1, 'gangster intruders': 1, 'saved guy': 1, 'guy getting': 1, 'getting mauled': 1, 'baghdad march': 1, 'march islamic': 1, 'islamic state': 1, 'state 1': 1, 'mile away': 1, 'away from': 1, 'from iraqi': 1, 'us threatened': 1, 'threatened prosecute': 1, 'prosecute families': 1, 'families 2': 1, '2 murdered': 1, 'murdered americans': 1, 'americans if': 1, 'if they': 1, 'they paid': 1, 'paid ransom': 1, 'fowler falls': 1, 'falls fake': 1, 'fake website': 1, 'website makes': 1, 'makes crazy': 1, 'crazy claims': 1, 'claims about': 1, 'about tennis': 1, 'tennis star': 1, 'loggers have': 1, 'have not': 1, 'not accidentally': 1, 'trump supported': 1, 'supported macron': 1, 'macron french': 1, 'french election': 2, 'eggs are': 2, 'are nearly': 2, 'nearly as': 2, 'as bad': 5, 'bad your': 3, 'your heart': 2, 'heart as': 2, 'as cigarettes': 4, 'saturated fat': 9, 'fat bad': 3, 'bad heart': 3, 'high intensity': 5, 'intensity interval': 1, 'interval training': 1, 'training hiit': 1, 'hiit dangerous': 1, 'trump plans': 1, 'plans pull': 1, 'pull out': 1, 'out paris': 3, 'paris climate': 4, 'climate accord': 1, 'kushner proposed': 4, 'proposed backchannel': 2, 'backchannel communication': 2, 'communication with': 5, 'with russians': 2, 'trump fired': 2, 'fired comey': 3, 'comey over': 4, 'over mishandling': 2, 'mishandling clinton': 2, 'clinton emails': 5, 'genetically modified': 2, 'modified foods': 2, 'foods are': 1, 'are harmful': 3, 'harmful health': 1, 'seth rich': 9, 'rich leaked': 3, 'leaked clinton': 3, 'emails wikileaks': 4, 'climate change': 16, 'change hoax': 6, 'obamacare imploding': 2, 'you were': 2, 'were my': 2, 'my guy': 2, 'guy trump': 1, 'trump tells': 2, 'tells macron': 1, 'macron he': 1, 'he supported': 1, 'supported him': 1, 'him during': 1, 'during french': 1, 'trump assures': 1, 'assures french': 1, 'french president': 1, 'president macron': 1, 'macron you': 1, 'guy after': 1, 'after saying': 1, 'saying before': 1, 'before his': 1, 'his election': 1, 'election that': 1, 'that rival': 1, 'rival le': 1, 'le pen': 1, 'pen was': 1, 'was strongest': 1, 'strongest on': 1, 'on what': 1, 'what going': 1, 'going on': 1, 'on france': 1, 'eating eggs': 1, 'eggs as': 3, 'as smoking': 1, 'study eggs': 1, 'your arteries': 1, 'arteries as': 1, 'cracking up': 2, 'up debunking': 2, 'debunking eggs': 2, 'bad as': 2, 'cigarettes myth': 2, 'fat forbidden': 1, 'forbidden food': 1, 'food you': 1, 'you should': 1, 'should never': 1, 'never stop': 1, 'stop eating': 1, 'fat don': 1, 't believe': 1, 'believe big': 1, 'big fat': 1, 'fat lie': 1, 'everyone was': 1, 'was wrong': 1, 'wrong saturated': 1, 'fat can': 1, 'can be': 2, 'be good': 1, 'good you': 1, 'sorry butter': 3, 'butter lovers': 3, 'lovers study': 3, 'study links': 3, 'links saturated': 3, 'fat heart': 3, 'heart disease': 4, 'disease again': 3, 'heart specialist': 1, 'specialist questions': 1, 'questions benefits': 1, 'benefits high': 1, 'intensity tabata': 1, 'tabata workout': 1, 'workout regime': 1, 'intensity training': 1, 'training does': 1, 'does more': 1, 'more harm': 1, 'harm than': 1, 'than good': 1, 'good raising': 1, 'raising risk': 1, 'risk cancer': 1, 'cancer and': 1, 'and heart': 1, 'disease experts': 1, 'experts warn': 1, 'why your': 2, 'your workout': 2, 'workout should': 2, 'should be': 2, 'be high': 2, 'report trump': 1, 'trump saying': 1, 'saying he': 1, 'he will': 2, 'will pull': 1, 'pull u': 1, 'u out': 1, 'climate deal': 3, 'scoop trump': 1, 'tells confidants': 1, 'confidants u': 1, 'u will': 1, 'will quit': 1, 'quit paris': 1, 'president trump': 1, 'trump pulling': 1, 'pulling out': 1, 'paris only': 1, 'only logical': 1, 'logical move': 1, 'trump has': 1, 'has made': 1, 'made up': 4, 'up his': 1, 'his mind': 1, 'mind withdraw': 1, 'withdraw us': 1, 'us from': 1, 'from paris': 1, 'deal despite': 1, 'despite saying': 1, 'saying publicly': 1, 'publicly he': 1, 'will decide': 1, 'decide next': 1, 'next week': 1, 'donald trump': 5, 'trump walks': 4, 'walks back': 4, 'back campaign': 4, 'campaign pledges': 4, 'pledges on': 4, 'on another': 4, 'another issue': 4, 'issue climate': 4, 'jared kushner': 5, 'kushner discussed': 2, 'discussed back': 2, 'back channel': 7, 'channel talking': 2, 'talking russia': 2, 'russia about': 2, 'about syria': 2, 'russian ambassador': 2, 'ambassador told': 2, 'told moscow': 2, 'moscow that': 2, 'that kushner': 2, 'kushner wanted': 2, 'wanted secret': 2, 'secret communications': 2, 'communications channel': 5, 'channel with': 4, 'with kremlin': 2, 'fake news': 3, 'news wapo': 3, 'wapo made': 3, 'up kushner': 3, 'kushner request': 3, 'request permanent': 3, 'permanent back': 3, 'channel communication': 3, 'with russia': 5, 'kushner didn': 3, 't suggest': 3, 'suggest russian': 3, 'russian communications': 3, 'channel meeting': 3, 'meeting source': 3, 'source says': 5, 'proposed back': 2, 'russia involving': 2, 'involving policy': 2, 'policy toward': 2, 'toward syria': 2, 'syria source': 2, 'trump fires': 2, 'fires fbi': 2, 'fbi comey': 2, 'over clinton': 2, 'clinton email': 2, 'email investigation': 2, 'trump reportedly': 1, 'reportedly fired': 1, 'comey because': 1, 'because he': 1, 'was furious': 1, 'furious about': 1, 'about russia': 1, 'russia investigation': 1, 'trump admits': 1, 'admits this': 1, 'this russia': 1, 'russia thing': 1, 'thing part': 1, 'part reasoning': 1, 'reasoning firing': 1, 'firing comey': 1, 'health risks': 1, 'risks genetically': 1, '10 scientific': 1, 'scientific studies': 1, 'studies proving': 3, 'proving gmos': 3, 'gmos can': 1, 'be harmful': 1, 'harmful human': 1, 'human health': 1, '10 studies': 2, 'gmos are': 2, 'harmful not': 2, 'not if': 2, 'if science': 2, 'science matters': 2, 'baseless claim': 1, 'claim that': 1, 'that slain': 1, 'slain dnc': 4, 'dnc staffer': 5, 'staffer seth': 5, 'rich gave': 1, 'gave emails': 1, 'rich did': 1, 'not send': 1, 'send thousands': 1, 'thousands e': 1, 'e mails': 1, 'mails wikileaks': 1, 'wikileaks before': 1, 'was murdered': 1, 'family slain': 3, 'rich blasts': 3, 'blasts detective': 3, 'detective over': 3, 'over report': 3, 'report wikileaks': 3, 'wikileaks link': 3, 'bonkers seth': 1, 'rich conspiracy': 1, 'conspiracy theory': 1, 'theory explained': 1, 'change not': 3, 'not hoax': 3, 'hoax ask': 3, 'ask any': 3, 'any millennial': 3, 'millennial seeing': 3, 'seeing it': 3, 'it firsthand': 3, 'change real': 3, 'real and': 3, 'and world': 3, 'world actually': 3, 'actually getting': 3, 'getting warmer': 3, '9 things': 2, 'things you': 2, 'you need': 2, 'need know': 2, 'know about': 2, 'about climate': 2, 'fingerprint global': 2, 'global warming': 2, 'warming doesn': 2, 'doesn t': 2, 't exist': 2, 'exist real': 2, 'real world': 2, 'world study': 2, 'study finds': 2, 'hoax that': 2, 'that costs': 2, 'costs us': 2, 'us 4': 2, '4 billion': 2, 'billion day': 2, 'sign that': 2, 'that obamacare': 2, 'obamacare exchanges': 2, 'exchanges are': 2, 'are failing': 2, 'republicans call': 3, 'call obamacare': 3, 'obamacare failure': 3, 'failure these': 3, 'these 7': 3, '7 charts': 3, 'charts show': 3, 'show they': 3, 'they couldn': 3, 'couldn t': 3, 't be': 3, 'be more': 3, 'more wrong': 3, 'cbo alternate': 2, 'alternate facts': 2, 'facts show': 2, 'show obamacare': 2, 'obamacare unsustainable': 2, 'why obamacare': 2, 'obamacare failed': 2, 'success affordable': 3, 'affordable care': 3, 'care act': 3, 'act hugely': 3, 'hugely inconvenient': 3, 'inconvenient truth': 3, 'truth its': 3, 'its opponents': 3})\n"
     ]
    }
   ],
   "source": [
    "print (word_counter)"
   ]
  },
  {
   "cell_type": "code",
   "execution_count": 56,
   "metadata": {},
   "outputs": [],
   "source": [
    "for w in word_counter:\n",
    "        if valid_global_word_counter[w] < MIN_FREQ:\n",
    "            continue\n",
    "\n",
    "#         #p(label | word)\n",
    "#         score = word_counter[w] / train_global_word_counter[w]\n",
    "#         pmi = math.log(score / p_l_train)\n",
    "#         #pmi = max(0, pmi)\n",
    "\n",
    "        if w in valid_global_word_counter:\n",
    "            valid_score = valid_label_word_counter[label][w] / valid_global_word_counter[w]\n",
    "            if valid_score == 0:\n",
    "                valid_pmi = float('inf')\n",
    "            else:\n",
    "                valid_pmi = math.log(valid_score / p_l_valid)\n",
    "                #valid_pmi = max(0, math.log(valid_score / p_l_valid))\n",
    "        else:\n",
    "            valid_score = 0\n",
    "            valid_pmi = float('inf')\n",
    "\n",
    "        words.append(w)\n",
    "        #scores.append(score)\n",
    "        #pmis.append(pmi)\n",
    "        freqs.append(word_counter[w])\n",
    "        valid_freqs.append(valid_label_word_counter[label][w])\n",
    "        valid_scores.append(valid_score)\n",
    "        valid_pmis.append(valid_pmi)"
   ]
  },
  {
   "cell_type": "code",
   "execution_count": 54,
   "metadata": {},
   "outputs": [
    {
     "ename": "AssertionError",
     "evalue": "",
     "output_type": "error",
     "traceback": [
      "\u001b[0;31m---------------------------------------------------------------------------\u001b[0m",
      "\u001b[0;31mAssertionError\u001b[0m                            Traceback (most recent call last)",
      "\u001b[0;32m<ipython-input-54-79b3c72e6543>\u001b[0m in \u001b[0;36m<module>\u001b[0;34m\u001b[0m\n\u001b[1;32m      1\u001b[0m \u001b[0;31m#assert(len(words) == len(scores) == len(freqs) == len(valid_freqs) == len(valid_scores) == len(pmis))\u001b[0m\u001b[0;34m\u001b[0m\u001b[0;34m\u001b[0m\u001b[0;34m\u001b[0m\u001b[0m\n\u001b[1;32m      2\u001b[0m \u001b[0;34m\u001b[0m\u001b[0m\n\u001b[0;32m----> 3\u001b[0;31m \u001b[0;32massert\u001b[0m\u001b[0;34m(\u001b[0m\u001b[0mlen\u001b[0m\u001b[0;34m(\u001b[0m\u001b[0mwords\u001b[0m\u001b[0;34m)\u001b[0m \u001b[0;34m==\u001b[0m \u001b[0mlen\u001b[0m\u001b[0;34m(\u001b[0m\u001b[0mvalid_freqs\u001b[0m\u001b[0;34m)\u001b[0m \u001b[0;34m==\u001b[0m \u001b[0mlen\u001b[0m\u001b[0;34m(\u001b[0m\u001b[0mvalid_scores\u001b[0m\u001b[0;34m)\u001b[0m\u001b[0;34m)\u001b[0m\u001b[0;34m\u001b[0m\u001b[0;34m\u001b[0m\u001b[0m\n\u001b[0m\u001b[1;32m      4\u001b[0m \u001b[0;34m\u001b[0m\u001b[0m\n",
      "\u001b[0;31mAssertionError\u001b[0m: "
     ]
    }
   ],
   "source": [
    "#assert(len(words) == len(scores) == len(freqs) == len(valid_freqs) == len(valid_scores) == len(pmis))\n",
    "\n",
    "#assert(len(words) == len(valid_freqs) == len(valid_scores)) \n",
    "\n"
   ]
  },
  {
   "cell_type": "code",
   "execution_count": 57,
   "metadata": {},
   "outputs": [
    {
     "ename": "ValueError",
     "evalue": "operands could not be broadcast together with shapes (0,) (2898,) ",
     "output_type": "error",
     "traceback": [
      "\u001b[0;31m---------------------------------------------------------------------------\u001b[0m",
      "\u001b[0;31mValueError\u001b[0m                                Traceback (most recent call last)",
      "\u001b[0;32m<ipython-input-57-6624a400092e>\u001b[0m in \u001b[0;36m<module>\u001b[0;34m\u001b[0m\n\u001b[0;32m----> 1\u001b[0;31m \u001b[0mpmis_x_freq\u001b[0m \u001b[0;34m=\u001b[0m \u001b[0mlist\u001b[0m\u001b[0;34m(\u001b[0m\u001b[0mnp\u001b[0m\u001b[0;34m.\u001b[0m\u001b[0marray\u001b[0m\u001b[0;34m(\u001b[0m\u001b[0mpmis\u001b[0m\u001b[0;34m)\u001b[0m\u001b[0;34m*\u001b[0m\u001b[0mfreqs\u001b[0m\u001b[0;34m/\u001b[0m\u001b[0mtrain_words\u001b[0m\u001b[0;34m)\u001b[0m\u001b[0;34m\u001b[0m\u001b[0;34m\u001b[0m\u001b[0m\n\u001b[0m\u001b[1;32m      2\u001b[0m \u001b[0mvalid_pmis_x_freq\u001b[0m \u001b[0;34m=\u001b[0m \u001b[0mlist\u001b[0m\u001b[0;34m(\u001b[0m\u001b[0mnp\u001b[0m\u001b[0;34m.\u001b[0m\u001b[0marray\u001b[0m\u001b[0;34m(\u001b[0m\u001b[0mvalid_pmis\u001b[0m\u001b[0;34m)\u001b[0m\u001b[0;34m*\u001b[0m\u001b[0mvalid_freqs\u001b[0m\u001b[0;34m/\u001b[0m\u001b[0mvalid_words\u001b[0m\u001b[0;34m)\u001b[0m\u001b[0;34m\u001b[0m\u001b[0;34m\u001b[0m\u001b[0m\n\u001b[1;32m      3\u001b[0m \u001b[0mpmis_x_freq\u001b[0m\u001b[0;34m,\u001b[0m \u001b[0mpmis\u001b[0m\u001b[0;34m,\u001b[0m \u001b[0mscores\u001b[0m\u001b[0;34m,\u001b[0m \u001b[0mfreqs\u001b[0m\u001b[0;34m,\u001b[0m \u001b[0mwords\u001b[0m\u001b[0;34m,\u001b[0m \u001b[0mvalid_scores\u001b[0m\u001b[0;34m,\u001b[0m \u001b[0mvalid_pmis\u001b[0m\u001b[0;34m,\u001b[0m \u001b[0mvalid_pmis_x_freq\u001b[0m\u001b[0;34m,\u001b[0m \u001b[0mvalid_freqs\u001b[0m \u001b[0;34m=\u001b[0m \u001b[0;34m(\u001b[0m\u001b[0mlist\u001b[0m\u001b[0;34m(\u001b[0m\u001b[0mt\u001b[0m\u001b[0;34m)\u001b[0m \u001b[0;32mfor\u001b[0m \u001b[0mt\u001b[0m \u001b[0;32min\u001b[0m \u001b[0mzip\u001b[0m\u001b[0;34m(\u001b[0m\u001b[0;34m*\u001b[0m\u001b[0msorted\u001b[0m\u001b[0;34m(\u001b[0m\u001b[0mzip\u001b[0m\u001b[0;34m(\u001b[0m\u001b[0mpmis_x_freq\u001b[0m\u001b[0;34m,\u001b[0m \u001b[0mpmis\u001b[0m\u001b[0;34m,\u001b[0m \u001b[0mscores\u001b[0m\u001b[0;34m,\u001b[0m \u001b[0mfreqs\u001b[0m\u001b[0;34m,\u001b[0m \u001b[0mwords\u001b[0m\u001b[0;34m,\u001b[0m \u001b[0mvalid_scores\u001b[0m\u001b[0;34m,\u001b[0m \u001b[0mvalid_pmis\u001b[0m\u001b[0;34m,\u001b[0m \u001b[0mvalid_pmis_x_freq\u001b[0m\u001b[0;34m,\u001b[0m \u001b[0mvalid_freqs\u001b[0m\u001b[0;34m)\u001b[0m\u001b[0;34m,\u001b[0m \u001b[0mreverse\u001b[0m\u001b[0;34m=\u001b[0m\u001b[0;32mTrue\u001b[0m\u001b[0;34m)\u001b[0m\u001b[0;34m)\u001b[0m\u001b[0;34m)\u001b[0m\u001b[0;34m\u001b[0m\u001b[0;34m\u001b[0m\u001b[0m\n\u001b[1;32m      4\u001b[0m \u001b[0;34m\u001b[0m\u001b[0m\n\u001b[1;32m      5\u001b[0m \u001b[0mprint\u001b[0m\u001b[0;34m(\u001b[0m\u001b[0;34m\"\"\u001b[0m\u001b[0;34m)\u001b[0m\u001b[0;34m\u001b[0m\u001b[0;34m\u001b[0m\u001b[0m\n",
      "\u001b[0;31mValueError\u001b[0m: operands could not be broadcast together with shapes (0,) (2898,) "
     ]
    }
   ],
   "source": [
    "    pmis_x_freq = list(np.array(pmis)*freqs/train_words)\n",
    "    valid_pmis_x_freq = list(np.array(valid_pmis)*valid_freqs/valid_words)\n",
    "    pmis_x_freq, pmis, scores, freqs, words, valid_scores, valid_pmis, valid_pmis_x_freq, valid_freqs = (list(t) for t in zip(*sorted(zip(pmis_x_freq, pmis, scores, freqs, words, valid_scores, valid_pmis, valid_pmis_x_freq, valid_freqs), reverse=True)))\n",
    "\n",
    "    print(\"\")\n",
    "    print(\"---- {}\".format(label))\n",
    "    print(\"{:20} | {:7} | {:5} | {:7} | {:5}\".format('word', 'lmi', 'p(l|w)', 'valid_lmi', 'valid_p(l|w)'))\n",
    "\n",
    "    #print(\"{:20} | {:6} | {:7} | {:7} | {:4} | {:11} | {:10} | {:10} | {:10}\".format('word', 'score', 'pmi', 'lmi', 'freq', 'valid score', 'valid_pmi', 'valid_lmi', 'valid freq'))\n",
    "    print (\"-\"*80)\n",
    "\n",
    "    #filepath = 'top_20_lmi_p_2_' + label + '.csv'\n",
    "    filepath = 'top_1000_unigram_' + label + '.csv'\n",
    "    with open(filepath, 'w') as f:\n",
    "        csv_writer = csv.writer(f, delimiter=',', quotechar='\"', quoting=csv.QUOTE_MINIMAL)\n",
    "        for i in range(min(TOP_N, len(words))):\n",
    "            #print(\"{:20} | {:6} | {:7} | {:7} | {:4} | {:11} | {:10} | {:10} | {:10}\".format(words[i], round(scores[i], 3), round(pmis[i],3), round(pmis_x_freq[i],3), freqs[i], round(valid_scores[i],3), round(valid_pmis[i],3), round(valid_pmis_x_freq[i],3), valid_freqs[i]))\n",
    "            if not math.isnan(valid_pmis_x_freq[i]): \n",
    "                print(\"{:20} | {:7} | {:5} | {:7} | {:5}\".format(words[i], int(round(pmis_x_freq[i]*10**6)), round(scores[i],2), int(round(valid_pmis_x_freq[i]*10**6)), round(valid_scores[i],2)))\n",
    "                csv_writer.writerow([words[i], int(round(pmis_x_freq[i]*10**6)), round(scores[i],2), freqs[i], int(round(valid_pmis_x_freq[i]*10**6)), round(valid_scores[i],2), valid_freqs[i]])\n",
    "            else:\n",
    "                print(\"{:20} | {:7} | {:5} | {:7} | {:5}\".format(words[i], int(round(pmis_x_freq[i]*10**6)), round(scores[i],2), valid_pmis_x_freq[i], round(valid_scores[i],2)))\n",
    "                csv_writer.writerow([words[i], int(round(pmis_x_freq[i]*10**6)), round(scores[i],2), freqs[i], valid_pmis_x_freq[i], round(valid_scores[i],2), valid_freqs[i]])\n",
    "\n",
    "        '''\n",
    "        extra_words = ['did not', 'yet to', 'does not', 'refused to', 'failed to', 'unable to', 'incapable being', 'united states', 'least one', 'at least', 'person who', 'stars actor', 'least one', 'won award', 'played for']\n",
    "        #extra_words = ['at least one']\n",
    "        for w in extra_words:\n",
    "            i = words.index(w)\n",
    "            if not math.isnan(valid_pmis_x_freq[i]): \n",
    "                print(\"{:20} | {:7} | {:5} | {:7} | {:5}\".format(words[i], int(round(pmis_x_freq[i]*10**6)), round(scores[i],2), int(round(valid_pmis_x_freq[i]*10**6)), round(valid_scores[i],2)))\n",
    "                csv_writer.writerow([words[i], int(round(pmis_x_freq[i]*10**6)), round(scores[i],2), freqs[i], int(round(valid_pmis_x_freq[i]*10**6)), round(valid_scores[i],2), valid_freqs[i]])\n",
    "            else:\n",
    "                print(\"{:20} | {:7} | {:5} | {:7} | {:5}\".format(words[i], int(round(pmis_x_freq[i]*10**6)), round(scores[i],2), valid_pmis_x_freq[i], round(valid_scores[i],2)))\n",
    "                csv_writer.writerow([words[i], int(round(pmis_x_freq[i]*10**6)), round(scores[i],2), freqs[i], valid_pmis_x_freq[i], round(valid_scores[i],2), valid_freqs[i]])\n",
    "        '''\n",
    "    \n",
    "    \n",
    "    limits = [10, 20, 50, 100, 200, 500, 1000]\n",
    "    #corr_filepath = 'corr_unigram_1000.pkl'\n",
    "    corr_ind = []\n",
    "    for limit in limits:\n",
    "        pears = pearsonr(scores[0:limit], valid_scores[0:limit])\n",
    "        print (\"pearson correlation for top {}: {} (p-value: {})\".format(limit, round(pears[0],3), round(pears[1],3)))\n",
    "        corr_ind.append(round(pears[0],3))\n",
    "\n",
    "        spear = spearmanr(scores[0:limit], valid_scores[0:limit])\n",
    "        print (\"spearman correlation for top {}: {} (p-value: {})\".format(limit, round(spear[0],3), round(spear[1],3)))\n",
    "\n",
    "    corr[label] = [limits, corr_ind]\n",
    "\n",
    "    #pickle.dump(corr, open(corr_filepath, 'wb'))"
   ]
  },
  {
   "cell_type": "code",
   "execution_count": null,
   "metadata": {},
   "outputs": [],
   "source": []
  }
 ],
 "metadata": {
  "kernelspec": {
   "display_name": "Python 3",
   "language": "python",
   "name": "python3"
  },
  "language_info": {
   "codemirror_mode": {
    "name": "ipython",
    "version": 3
   },
   "file_extension": ".py",
   "mimetype": "text/x-python",
   "name": "python",
   "nbconvert_exporter": "python",
   "pygments_lexer": "ipython3",
   "version": "3.7.4"
  }
 },
 "nbformat": 4,
 "nbformat_minor": 2
}
